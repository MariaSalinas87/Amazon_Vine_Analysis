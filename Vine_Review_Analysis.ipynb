{
  "nbformat": 4,
  "nbformat_minor": 0,
  "metadata": {
    "colab": {
      "provenance": [],
      "authorship_tag": "ABX9TyNhWxt6lyHFuh1FiTPs8w5G",
      "include_colab_link": true
    },
    "kernelspec": {
      "name": "python3",
      "display_name": "Python 3"
    },
    "language_info": {
      "name": "python"
    }
  },
  "cells": [
    {
      "cell_type": "markdown",
      "metadata": {
        "id": "view-in-github",
        "colab_type": "text"
      },
      "source": [
        "<a href=\"https://colab.research.google.com/github/MariaSalinas87/Amazon_Vine_Analysis/blob/main/Vine_Review_Analysis.ipynb\" target=\"_parent\"><img src=\"https://colab.research.google.com/assets/colab-badge.svg\" alt=\"Open In Colab\"/></a>"
      ]
    },
    {
      "cell_type": "code",
      "execution_count": 2,
      "metadata": {
        "colab": {
          "base_uri": "https://localhost:8080/"
        },
        "id": "NA7SJgXKuPDM",
        "outputId": "378bc735-e260-42e7-bc60-7616042ecf93"
      },
      "outputs": [
        {
          "output_type": "stream",
          "name": "stdout",
          "text": [
            "\r0% [Working]\r            \rGet:1 http://security.ubuntu.com/ubuntu focal-security InRelease [114 kB]\n",
            "\r0% [Waiting for headers] [1 InRelease 14.2 kB/114 kB 12%] [Waiting for headers]\r                                                                               \rGet:2 https://cloud.r-project.org/bin/linux/ubuntu focal-cran40/ InRelease [3,622 B]\n",
            "\r0% [Waiting for headers] [1 InRelease 28.6 kB/114 kB 25%] [2 InRelease 0 B/3,62\r0% [Waiting for headers] [1 InRelease 43.1 kB/114 kB 38%] [Waiting for headers]\r                                                                               \r0% [Waiting for headers] [Waiting for headers] [Waiting for headers]\r                                                                    \rIgn:3 https://developer.download.nvidia.com/compute/machine-learning/repos/ubuntu2004/x86_64  InRelease\n",
            "\r0% [Waiting for headers] [Waiting for headers] [Waiting for headers]\r                                                                    \rGet:4 https://developer.download.nvidia.com/compute/cuda/repos/ubuntu2004/x86_64  InRelease [1,581 B]\n",
            "\r0% [Waiting for headers] [4 InRelease 1,581 B/1,581 B 100%] [Waiting for header\r                                                                               \r0% [Waiting for headers] [Waiting for headers]\r                                              \rHit:5 https://developer.download.nvidia.com/compute/machine-learning/repos/ubuntu2004/x86_64  Release\n",
            "\r0% [Waiting for headers] [Waiting for headers]\r                                              \rHit:6 http://archive.ubuntu.com/ubuntu focal InRelease\n",
            "Get:7 http://ppa.launchpad.net/c2d4u.team/c2d4u4.0+/ubuntu focal InRelease [18.1 kB]\n",
            "Get:8 http://archive.ubuntu.com/ubuntu focal-updates InRelease [114 kB]\n",
            "Hit:9 http://ppa.launchpad.net/cran/libgit2/ubuntu focal InRelease\n",
            "Get:10 http://archive.ubuntu.com/ubuntu focal-backports InRelease [108 kB]\n",
            "Hit:11 http://ppa.launchpad.net/deadsnakes/ppa/ubuntu focal InRelease\n",
            "Hit:12 http://ppa.launchpad.net/graphics-drivers/ppa/ubuntu focal InRelease\n",
            "Get:13 http://security.ubuntu.com/ubuntu focal-security/main amd64 Packages [2,448 kB]\n",
            "Get:14 http://security.ubuntu.com/ubuntu focal-security/universe amd64 Packages [990 kB]\n",
            "Get:15 https://developer.download.nvidia.com/compute/cuda/repos/ubuntu2004/x86_64  Packages [869 kB]\n",
            "Get:17 http://ppa.launchpad.net/c2d4u.team/c2d4u4.0+/ubuntu focal/main Sources [2,381 kB]\n",
            "Get:18 http://archive.ubuntu.com/ubuntu focal-updates/universe amd64 Packages [1,290 kB]\n",
            "Get:19 http://ppa.launchpad.net/c2d4u.team/c2d4u4.0+/ubuntu focal/main amd64 Packages [1,128 kB]\n",
            "Get:20 http://archive.ubuntu.com/ubuntu focal-updates/main amd64 Packages [2,921 kB]\n",
            "Fetched 12.4 MB in 5s (2,722 kB/s)\n",
            "Reading package lists... Done\n"
          ]
        }
      ],
      "source": [
        "import os\n",
        "# Find the latest version of spark 3.2 from http://www.apache.org/dist/spark/ and enter as the spark version\n",
        "# For example:\n",
        "# spark_version = 'spark-3.2.3'\n",
        "spark_version = 'spark-3.2.3'\n",
        "os.environ['SPARK_VERSION']=spark_version\n",
        "\n",
        "# Install Spark and Java\n",
        "!apt-get update\n",
        "!apt-get install openjdk-11-jdk-headless -qq > /dev/null\n",
        "!wget -q http://www.apache.org/dist/spark/$SPARK_VERSION/$SPARK_VERSION-bin-hadoop2.7.tgz\n",
        "!tar xf $SPARK_VERSION-bin-hadoop2.7.tgz\n",
        "!pip install -q findspark\n",
        "\n",
        "# Set Environment Variables\n",
        "import os\n",
        "os.environ[\"JAVA_HOME\"] = \"/usr/lib/jvm/java-11-openjdk-amd64\"\n",
        "os.environ[\"SPARK_HOME\"] = f\"/content/{spark_version}-bin-hadoop2.7\"\n",
        "\n",
        "# Start a SparkSession\n",
        "import findspark\n",
        "findspark.init()"
      ]
    },
    {
      "cell_type": "code",
      "source": [
        "!wget https://jdbc.postgresql.org/download/postgresql-42.2.17.jar"
      ],
      "metadata": {
        "colab": {
          "base_uri": "https://localhost:8080/"
        },
        "id": "rAygFUuxx4zI",
        "outputId": "bb558a9d-06ab-40fa-8b3c-9fa70ef2d2b3"
      },
      "execution_count": 3,
      "outputs": [
        {
          "output_type": "stream",
          "name": "stdout",
          "text": [
            "--2023-02-01 02:22:57--  https://jdbc.postgresql.org/download/postgresql-42.2.17.jar\n",
            "Resolving jdbc.postgresql.org (jdbc.postgresql.org)... 72.32.157.228, 2001:4800:3e1:1::228\n",
            "Connecting to jdbc.postgresql.org (jdbc.postgresql.org)|72.32.157.228|:443... connected.\n",
            "HTTP request sent, awaiting response... 200 OK\n",
            "Length: 1004734 (981K) [application/java-archive]\n",
            "Saving to: ‘postgresql-42.2.17.jar’\n",
            "\n",
            "postgresql-42.2.17. 100%[===================>] 981.19K  5.14MB/s    in 0.2s    \n",
            "\n",
            "2023-02-01 02:22:57 (5.14 MB/s) - ‘postgresql-42.2.17.jar’ saved [1004734/1004734]\n",
            "\n"
          ]
        }
      ]
    },
    {
      "cell_type": "code",
      "source": [
        "from pyspark.sql import SparkSession\n",
        "spark = SparkSession.builder.appName(\"CloudETL\").config(\"spark.driver.extraClassPath\",\"/content/postgresql-42.2.17.jar\").getOrCreate()"
      ],
      "metadata": {
        "id": "l3VUHQ6fyLrV"
      },
      "execution_count": 4,
      "outputs": []
    },
    {
      "cell_type": "code",
      "source": [
        "# Read in data from S3 Buckets\n",
        "from pyspark import SparkFiles\n",
        "url =\"https://s3.amazonaws.com/amazon-reviews-pds/tsv/amazon_reviews_us_Personal_Care_Appliances_v1_00.tsv.gz\"\n",
        "spark.sparkContext.addFile(url)\n",
        "review_data_df = spark.read.csv(SparkFiles.get(\"amazon_reviews_us_Personal_Care_Appliances_v1_00.tsv.gz\"), sep='\\t', header=True, inferSchema=True)"
      ],
      "metadata": {
        "id": "8F-s_KWfyMf8"
      },
      "execution_count": 5,
      "outputs": []
    },
    {
      "cell_type": "code",
      "source": [
        "from pyspark.sql import SQLContext\n",
        "sqlContext = SQLContext(spark.sparkContext)\n"
      ],
      "metadata": {
        "colab": {
          "base_uri": "https://localhost:8080/"
        },
        "id": "LQXO0GgvyQ0X",
        "outputId": "492a4252-bf82-4933-e25a-5ca7e2616e58"
      },
      "execution_count": 6,
      "outputs": [
        {
          "output_type": "stream",
          "name": "stderr",
          "text": [
            "/content/spark-3.2.3-bin-hadoop2.7/python/pyspark/sql/context.py:77: FutureWarning: Deprecated in 3.0.0. Use SparkSession.builder.getOrCreate() instead.\n",
            "  warnings.warn(\n"
          ]
        }
      ]
    },
    {
      "cell_type": "code",
      "source": [
        "# Read in data from S3 Buckets\n",
        "from pyspark import SparkFiles\n",
        "url =\"https://s3.amazonaws.com/amazon-reviews-pds/tsv/amazon_reviews_us_Personal_Care_Appliances_v1_00.tsv.gz\"\n",
        "spark.sparkContext.addFile(url)\n",
        "review_data_df = spark.read.csv(SparkFiles.get(\"amazon_reviews_us_Personal_Care_Appliances_v1_00.tsv.gz\"), sep='\\t', header=True, inferSchema=True)"
      ],
      "metadata": {
        "id": "fXo8C1CbyeKz"
      },
      "execution_count": 7,
      "outputs": []
    },
    {
      "cell_type": "code",
      "source": [
        "vine_table_df= review_data_df.select(\n",
        "    [\n",
        "                  'review_id',\n",
        "                  'star_rating',\n",
        "                  'helpful_votes',\n",
        "                  'total_votes',\n",
        "                  'vine',\n",
        "                  'verified_purchase' \n",
        "    ]\n",
        ")\n",
        "vine_table_df.show()"
      ],
      "metadata": {
        "colab": {
          "base_uri": "https://localhost:8080/"
        },
        "id": "kmSL5RTzy8zs",
        "outputId": "a1d2a926-8f45-42b8-922e-720143d465d9"
      },
      "execution_count": 8,
      "outputs": [
        {
          "output_type": "stream",
          "name": "stdout",
          "text": [
            "+--------------+-----------+-------------+-----------+----+-----------------+\n",
            "|     review_id|star_rating|helpful_votes|total_votes|vine|verified_purchase|\n",
            "+--------------+-----------+-------------+-----------+----+-----------------+\n",
            "|R1QX6706ZWJ1P5|          5|            0|          0|   N|                Y|\n",
            "|R3QWMLJHIW6P37|          5|            0|          0|   N|                Y|\n",
            "|R14Z1VR1N0Z9G6|          5|            1|          1|   N|                Y|\n",
            "| R25ZRJL0GH0U0|          2|            0|          0|   N|                Y|\n",
            "|R3837KYH7AZNIY|          4|            0|          1|   N|                Y|\n",
            "|R2MN0QYCY6EVIV|          5|            0|          0|   N|                Y|\n",
            "|R3AN2UJ1D42ZS0|          5|            0|          0|   N|                Y|\n",
            "|R3U29ZLUWEEK4M|          5|            0|          0|   N|                Y|\n",
            "|R16ZDMJJHK796C|          5|            0|          0|   N|                N|\n",
            "| RRRDOEJZD1Y22|          4|            0|          0|   N|                Y|\n",
            "|R2KR5ZEAS859DK|          5|            0|          0|   N|                Y|\n",
            "| RR7PGQY763IHF|          5|            0|          0|   N|                Y|\n",
            "| RN37YYZBP9BMP|          5|            4|          4|   N|                Y|\n",
            "| R1UXGB70OR5TW|          5|            0|          0|   N|                Y|\n",
            "|R1OC5ZNXSGO7P1|          5|            0|          0|   N|                Y|\n",
            "|R1W4ZN8BPVNWK3|          5|            0|          0|   N|                Y|\n",
            "|R2KE33CNN5X2B0|          5|            0|          0|   N|                Y|\n",
            "|R1A26EDSO0U5N6|          5|            0|          0|   N|                Y|\n",
            "|R3L81GOHVS3E9P|          5|            0|          0|   N|                Y|\n",
            "| RNFW9SWC5D0YF|          5|            2|          2|   N|                N|\n",
            "+--------------+-----------+-------------+-----------+----+-----------------+\n",
            "only showing top 20 rows\n",
            "\n"
          ]
        }
      ]
    },
    {
      "cell_type": "code",
      "source": [
        "total_votes_greaterthan_20_df = vine_table_df.filter(\"total_votes > 20\")\n",
        "total_votes_greaterthan_20_df.show()"
      ],
      "metadata": {
        "colab": {
          "base_uri": "https://localhost:8080/"
        },
        "id": "0ZYY5N6IzBcS",
        "outputId": "2376974c-bf02-4b9e-8130-f6dcc3ac76dd"
      },
      "execution_count": 10,
      "outputs": [
        {
          "output_type": "stream",
          "name": "stdout",
          "text": [
            "+--------------+-----------+-------------+-----------+----+-----------------+\n",
            "|     review_id|star_rating|helpful_votes|total_votes|vine|verified_purchase|\n",
            "+--------------+-----------+-------------+-----------+----+-----------------+\n",
            "|R2PT2X8FMYFCV3|          5|           39|         41|   N|                Y|\n",
            "| RGCUQSH80SYY7|          1|           36|         47|   N|                N|\n",
            "|R3E6EI073KP0AL|          2|           21|         36|   N|                Y|\n",
            "|R3MYTXW7B4Z6YW|          4|          687|        711|   N|                Y|\n",
            "|R2WMF1IWN5ZYO4|          5|           18|         24|   N|                Y|\n",
            "| ROX6L7VJFS2P7|          5|          339|        371|   N|                N|\n",
            "| RRKAST7D4QTW8|          1|           20|         27|   N|                N|\n",
            "|R2QBKTWBDPL8BF|          5|           65|         83|   N|                N|\n",
            "|R3ULT9I0U79N8L|          5|           49|         57|   N|                N|\n",
            "|R20LABVEB8O83Q|          3|           11|         23|   N|                Y|\n",
            "| RAC19YVDYSIKB|          5|          161|        178|   N|                Y|\n",
            "|R2Y371XG6AXDOJ|          1|           16|         30|   N|                Y|\n",
            "|R1327SZTWDHLID|          1|           12|         24|   N|                Y|\n",
            "|R1FANBM03J1IHE|          5|           24|         31|   N|                N|\n",
            "|R2X15QGPQ9ESRU|          1|           12|         23|   N|                Y|\n",
            "|R1F7CUCJIBPS7L|          3|           20|         21|   N|                Y|\n",
            "|R3JV04CHH10FFR|          5|           32|         32|   N|                Y|\n",
            "|R2MYCK7CFNL0ZC|          1|            0|         35|   N|                Y|\n",
            "|R1K0BP4TF3U8EH|          5|           23|         37|   N|                Y|\n",
            "|R1NLF8OHR0IIF8|          1|            1|         38|   N|                Y|\n",
            "+--------------+-----------+-------------+-----------+----+-----------------+\n",
            "only showing top 20 rows\n",
            "\n"
          ]
        }
      ]
    },
    {
      "cell_type": "code",
      "source": [
        "helpful_votes_df = total_votes_greaterthan_20_df.filter(\"(helpful_votes / total_votes) > 0.5\")\n",
        "helpful_votes_df.show()"
      ],
      "metadata": {
        "colab": {
          "base_uri": "https://localhost:8080/"
        },
        "id": "np8bJsor0FNi",
        "outputId": "bf4729ae-b5b5-4727-b374-c1f375d39212"
      },
      "execution_count": 11,
      "outputs": [
        {
          "output_type": "stream",
          "name": "stdout",
          "text": [
            "+--------------+-----------+-------------+-----------+----+-----------------+\n",
            "|     review_id|star_rating|helpful_votes|total_votes|vine|verified_purchase|\n",
            "+--------------+-----------+-------------+-----------+----+-----------------+\n",
            "|R2PT2X8FMYFCV3|          5|           39|         41|   N|                Y|\n",
            "| RGCUQSH80SYY7|          1|           36|         47|   N|                N|\n",
            "|R3E6EI073KP0AL|          2|           21|         36|   N|                Y|\n",
            "|R3MYTXW7B4Z6YW|          4|          687|        711|   N|                Y|\n",
            "|R2WMF1IWN5ZYO4|          5|           18|         24|   N|                Y|\n",
            "| ROX6L7VJFS2P7|          5|          339|        371|   N|                N|\n",
            "| RRKAST7D4QTW8|          1|           20|         27|   N|                N|\n",
            "|R2QBKTWBDPL8BF|          5|           65|         83|   N|                N|\n",
            "|R3ULT9I0U79N8L|          5|           49|         57|   N|                N|\n",
            "| RAC19YVDYSIKB|          5|          161|        178|   N|                Y|\n",
            "|R2Y371XG6AXDOJ|          1|           16|         30|   N|                Y|\n",
            "|R1FANBM03J1IHE|          5|           24|         31|   N|                N|\n",
            "|R2X15QGPQ9ESRU|          1|           12|         23|   N|                Y|\n",
            "|R1F7CUCJIBPS7L|          3|           20|         21|   N|                Y|\n",
            "|R3JV04CHH10FFR|          5|           32|         32|   N|                Y|\n",
            "|R1K0BP4TF3U8EH|          5|           23|         37|   N|                Y|\n",
            "|R1PVRE7ZDRJ9GF|          5|           23|         23|   N|                Y|\n",
            "| RMTXV7D4130E4|          1|           37|         73|   N|                Y|\n",
            "|R1P3QAUSWGHR27|          5|           26|         35|   N|                Y|\n",
            "|R3QZ0KTQMDY12F|          5|           28|         28|   N|                Y|\n",
            "+--------------+-----------+-------------+-----------+----+-----------------+\n",
            "only showing top 20 rows\n",
            "\n"
          ]
        }
      ]
    },
    {
      "cell_type": "code",
      "source": [
        "Paid_votes_df = helpful_votes_df.filter(\"vine == 'Y'\")\n",
        "Paid_votes_df.show()"
      ],
      "metadata": {
        "colab": {
          "base_uri": "https://localhost:8080/"
        },
        "id": "eLMeAfIY1BnS",
        "outputId": "c084dada-c174-435b-c1d6-ba890f176049"
      },
      "execution_count": 12,
      "outputs": [
        {
          "output_type": "stream",
          "name": "stdout",
          "text": [
            "+--------------+-----------+-------------+-----------+----+-----------------+\n",
            "|     review_id|star_rating|helpful_votes|total_votes|vine|verified_purchase|\n",
            "+--------------+-----------+-------------+-----------+----+-----------------+\n",
            "|R3R2RHQWEKX5NL|          5|           81|         89|   Y|                N|\n",
            "|R1RZ4JZO8DAP7H|          3|          200|        227|   Y|                N|\n",
            "| RQ94HI0WM8KIG|          5|          174|        188|   Y|                N|\n",
            "+--------------+-----------+-------------+-----------+----+-----------------+\n",
            "\n"
          ]
        }
      ]
    },
    {
      "cell_type": "code",
      "source": [
        "Unpaid_votes_df =  helpful_votes_df.filter(\"vine == 'N'\")\n",
        "Unpaid_votes_df.show()"
      ],
      "metadata": {
        "colab": {
          "base_uri": "https://localhost:8080/"
        },
        "id": "sp5hGA3y1ZH3",
        "outputId": "948f8527-dc7e-4c37-e9a3-34118e8da361"
      },
      "execution_count": 14,
      "outputs": [
        {
          "output_type": "stream",
          "name": "stdout",
          "text": [
            "+--------------+-----------+-------------+-----------+----+-----------------+\n",
            "|     review_id|star_rating|helpful_votes|total_votes|vine|verified_purchase|\n",
            "+--------------+-----------+-------------+-----------+----+-----------------+\n",
            "|R2PT2X8FMYFCV3|          5|           39|         41|   N|                Y|\n",
            "| RGCUQSH80SYY7|          1|           36|         47|   N|                N|\n",
            "|R3E6EI073KP0AL|          2|           21|         36|   N|                Y|\n",
            "|R3MYTXW7B4Z6YW|          4|          687|        711|   N|                Y|\n",
            "|R2WMF1IWN5ZYO4|          5|           18|         24|   N|                Y|\n",
            "| ROX6L7VJFS2P7|          5|          339|        371|   N|                N|\n",
            "| RRKAST7D4QTW8|          1|           20|         27|   N|                N|\n",
            "|R2QBKTWBDPL8BF|          5|           65|         83|   N|                N|\n",
            "|R3ULT9I0U79N8L|          5|           49|         57|   N|                N|\n",
            "| RAC19YVDYSIKB|          5|          161|        178|   N|                Y|\n",
            "|R2Y371XG6AXDOJ|          1|           16|         30|   N|                Y|\n",
            "|R1FANBM03J1IHE|          5|           24|         31|   N|                N|\n",
            "|R2X15QGPQ9ESRU|          1|           12|         23|   N|                Y|\n",
            "|R1F7CUCJIBPS7L|          3|           20|         21|   N|                Y|\n",
            "|R3JV04CHH10FFR|          5|           32|         32|   N|                Y|\n",
            "|R1K0BP4TF3U8EH|          5|           23|         37|   N|                Y|\n",
            "|R1PVRE7ZDRJ9GF|          5|           23|         23|   N|                Y|\n",
            "| RMTXV7D4130E4|          1|           37|         73|   N|                Y|\n",
            "|R1P3QAUSWGHR27|          5|           26|         35|   N|                Y|\n",
            "|R3QZ0KTQMDY12F|          5|           28|         28|   N|                Y|\n",
            "+--------------+-----------+-------------+-----------+----+-----------------+\n",
            "only showing top 20 rows\n",
            "\n"
          ]
        }
      ]
    },
    {
      "cell_type": "code",
      "source": [
        "from pyspark.sql.functions import count"
      ],
      "metadata": {
        "id": "j_eEmhNO29AQ"
      },
      "execution_count": 18,
      "outputs": []
    },
    {
      "cell_type": "code",
      "source": [
        "Notpaid = Unpaid_votes_df.count()\n",
        "Notpaid"
      ],
      "metadata": {
        "colab": {
          "base_uri": "https://localhost:8080/"
        },
        "id": "6TmVTPit6Eab",
        "outputId": "4cbfbf2f-b848-40ee-eac6-1f5f6eb08fa1"
      },
      "execution_count": 33,
      "outputs": [
        {
          "output_type": "execute_result",
          "data": {
            "text/plain": [
              "2901"
            ]
          },
          "metadata": {},
          "execution_count": 33
        }
      ]
    },
    {
      "cell_type": "code",
      "source": [
        "#Determine the total number of reviews"
      ],
      "metadata": {
        "id": "RgXM9HgG2XYF"
      },
      "execution_count": null,
      "outputs": []
    },
    {
      "cell_type": "code",
      "source": [
        "Number_of_reviews = vine_table_df.count()\n",
        "Number_of_reviews"
      ],
      "metadata": {
        "colab": {
          "base_uri": "https://localhost:8080/"
        },
        "id": "2sFA2VWl16Hv",
        "outputId": "7a31589a-81d5-4b22-d8e4-c6426eb8203b"
      },
      "execution_count": 20,
      "outputs": [
        {
          "output_type": "execute_result",
          "data": {
            "text/plain": [
              "85981"
            ]
          },
          "metadata": {},
          "execution_count": 20
        }
      ]
    },
    {
      "cell_type": "code",
      "source": [
        "#the number of 5-star reviews"
      ],
      "metadata": {
        "id": "DGO2AaY42aoy"
      },
      "execution_count": null,
      "outputs": []
    },
    {
      "cell_type": "code",
      "source": [
        "Review_5stars = vine_table_df.filter(\"star_rating == 5\").count()"
      ],
      "metadata": {
        "id": "rdx6RT3y2cl1"
      },
      "execution_count": 22,
      "outputs": []
    },
    {
      "cell_type": "code",
      "source": [
        "Review_5stars"
      ],
      "metadata": {
        "colab": {
          "base_uri": "https://localhost:8080/"
        },
        "id": "L1XOIpK83StW",
        "outputId": "c2eebf03-a8b2-451b-ad6a-408582adc323"
      },
      "execution_count": 23,
      "outputs": [
        {
          "output_type": "execute_result",
          "data": {
            "text/plain": [
              "48897"
            ]
          },
          "metadata": {},
          "execution_count": 23
        }
      ]
    },
    {
      "cell_type": "code",
      "source": [
        "#the percentage of 5-star reviews for the two types of review (paid vs unpaid)."
      ],
      "metadata": {
        "id": "Ci_Y3zyz2csk"
      },
      "execution_count": null,
      "outputs": []
    },
    {
      "cell_type": "code",
      "source": [
        "Paid_percentage = round((Review_5stars/ Number_of_reviews * 100), 2)\n",
        "Paid_percentage\n"
      ],
      "metadata": {
        "colab": {
          "base_uri": "https://localhost:8080/"
        },
        "id": "sTcIqREu3k-7",
        "outputId": "791ea50f-9ca1-467d-af07-cd3d472b1336"
      },
      "execution_count": 34,
      "outputs": [
        {
          "output_type": "execute_result",
          "data": {
            "text/plain": [
              "56.87"
            ]
          },
          "metadata": {},
          "execution_count": 34
        }
      ]
    },
    {
      "cell_type": "code",
      "source": [
        "Notpaid_percentage = round((Notpaid/Number_of_reviews *100), 2)\n",
        "Notpaid_percentage"
      ],
      "metadata": {
        "colab": {
          "base_uri": "https://localhost:8080/"
        },
        "id": "xUvXeKyg4N3q",
        "outputId": "2977b880-eb0a-4aea-bef1-278c3f669968"
      },
      "execution_count": 36,
      "outputs": [
        {
          "output_type": "execute_result",
          "data": {
            "text/plain": [
              "3.37"
            ]
          },
          "metadata": {},
          "execution_count": 36
        }
      ]
    }
  ]
}